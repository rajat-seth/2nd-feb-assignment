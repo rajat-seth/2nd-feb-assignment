{
 "cells": [
  {
   "cell_type": "markdown",
   "id": "b546531c-426e-461c-8c00-6c62fe658815",
   "metadata": {},
   "source": [
    "1)\n",
    "Characteristics of tuple are:\n",
    "i)Indexed.\n",
    "ii)Ordered\n",
    "iii)Immutable\n",
    "iv)Duplicate is allowed\n",
    "\n",
    "Yes tuples are immutable whichs means means it can't be chnaged.\n"
   ]
  },
  {
   "cell_type": "markdown",
   "id": "8643117e-8c74-469b-968e-509955d810e6",
   "metadata": {},
   "source": [
    "2)\n",
    "Two tuple methods are count and index.\n",
    "\n",
    "Example of count:\n"
   ]
  },
  {
   "cell_type": "code",
   "execution_count": 5,
   "id": "1bbb3efd-56bd-4b8c-aedf-5ea8429e2ff7",
   "metadata": {},
   "outputs": [],
   "source": [
    "tuple=(1,2,3,1,4,5,1)"
   ]
  },
  {
   "cell_type": "code",
   "execution_count": 6,
   "id": "6970bb7c-7101-4b15-a9af-f479795c5e93",
   "metadata": {},
   "outputs": [
    {
     "data": {
      "text/plain": [
       "3"
      ]
     },
     "execution_count": 6,
     "metadata": {},
     "output_type": "execute_result"
    }
   ],
   "source": [
    "tuple.count(1)"
   ]
  },
  {
   "cell_type": "markdown",
   "id": "44f2b1cd-e135-4981-aa2d-2b8f89d9db03",
   "metadata": {},
   "source": [
    "Example of Index:"
   ]
  },
  {
   "cell_type": "code",
   "execution_count": 9,
   "id": "c877984f-03a6-4523-b869-6b83706720c8",
   "metadata": {},
   "outputs": [
    {
     "data": {
      "text/plain": [
       "5"
      ]
     },
     "execution_count": 9,
     "metadata": {},
     "output_type": "execute_result"
    }
   ],
   "source": [
    "tuple.index(5)"
   ]
  },
  {
   "cell_type": "markdown",
   "id": "511ed224-0af8-4834-8869-b1d8f6f1f1c1",
   "metadata": {},
   "source": [
    "Here index shows the position of 5 in tuple that is 5th position starting from 0."
   ]
  },
  {
   "cell_type": "markdown",
   "id": "3e5c5814-7745-4e19-82e2-a9f4f8a68e6f",
   "metadata": {},
   "source": [
    "Tuples have only two inbuilt methods because it is immutable where as list is mutable which allow it to have more methods."
   ]
  },
  {
   "cell_type": "markdown",
   "id": "5ddea78a-e48c-48f1-b675-843009333c91",
   "metadata": {},
   "source": [
    "Q3)\n",
    "Sets is a collection of data type which don't allow duplicates."
   ]
  },
  {
   "cell_type": "code",
   "execution_count": 15,
   "id": "80b024fb-8487-415b-a5ba-19096d6a507e",
   "metadata": {},
   "outputs": [
    {
     "name": "stdout",
     "output_type": "stream",
     "text": [
      "{1, 2, 3, 4}\n"
     ]
    }
   ],
   "source": [
    "List=[1,1,1,2,1,3,1,4,2,1,2,2,2,3,2,4,3,1,3,2,3,3,3,4,4,1,4,2,4,3,4,4]\n",
    "required_list=set(List)\n",
    "print(required_list)"
   ]
  },
  {
   "cell_type": "markdown",
   "id": "064ae5f7-1c77-4681-bcfa-c1394312c0f9",
   "metadata": {},
   "source": [
    "Q4)\n",
    "Union() method is used to add a set from specified set and thus a new set is created.\n",
    "Where as Update() method is used to update value in a set from a specified set and no new set is created. \n",
    "    "
   ]
  },
  {
   "cell_type": "code",
   "execution_count": 18,
   "id": "dc63c812-bebe-4644-829a-a19de0f1e33b",
   "metadata": {},
   "outputs": [
    {
     "data": {
      "text/plain": [
       "{1, 2, 3, 4}"
      ]
     },
     "execution_count": 18,
     "metadata": {},
     "output_type": "execute_result"
    }
   ],
   "source": [
    "set1={1,2,3}\n",
    "set2={2,3,4}\n",
    "set.union(set1,set2)"
   ]
  },
  {
   "cell_type": "code",
   "execution_count": 23,
   "id": "025c746a-3662-413e-add0-574cffcde142",
   "metadata": {},
   "outputs": [],
   "source": [
    "set2.update(set1)"
   ]
  },
  {
   "cell_type": "code",
   "execution_count": 24,
   "id": "5f351d08-9245-47dc-8d12-6bf2844ea8d9",
   "metadata": {},
   "outputs": [
    {
     "data": {
      "text/plain": [
       "{1, 2, 3, 4}"
      ]
     },
     "execution_count": 24,
     "metadata": {},
     "output_type": "execute_result"
    }
   ],
   "source": [
    "set2"
   ]
  },
  {
   "cell_type": "markdown",
   "id": "a1164794-9db4-4a3d-ae31-0a6ebe701456",
   "metadata": {},
   "source": [
    "Here we can notice that in union a new set has been creaed whereas in update set2 has been updated and no new set is created."
   ]
  },
  {
   "cell_type": "markdown",
   "id": "4adf3330-4ba8-4f70-b1b4-87b2852b0eb7",
   "metadata": {},
   "source": [
    "5)\n",
    "Dictionary is a datatype which is used to store value just like a dictionary does.\n"
   ]
  },
  {
   "cell_type": "code",
   "execution_count": 26,
   "id": "539eee0c-47d4-4cd4-b9e1-3cdd21cacdff",
   "metadata": {},
   "outputs": [],
   "source": [
    "dict={\"first name\":\"Rajat\",\"Last name\":\"Seth\"}"
   ]
  },
  {
   "cell_type": "code",
   "execution_count": 31,
   "id": "11654097-89bc-49ba-b80f-5c078e91f84a",
   "metadata": {},
   "outputs": [
    {
     "data": {
      "text/plain": [
       "{'first name': 'Rajat', 'Last name': 'Seth'}"
      ]
     },
     "execution_count": 31,
     "metadata": {},
     "output_type": "execute_result"
    }
   ],
   "source": [
    "dict"
   ]
  },
  {
   "cell_type": "markdown",
   "id": "87144d58-311d-4918-b9c2-2d44e7529f65",
   "metadata": {},
   "source": [
    "Dictionary is Ordered."
   ]
  },
  {
   "cell_type": "markdown",
   "id": "743301c8-1b88-4631-a59c-0e6589bafac6",
   "metadata": {},
   "source": [
    "6)\n",
    "Yes we can create a nested dictionary\n"
   ]
  },
  {
   "cell_type": "code",
   "execution_count": 33,
   "id": "3c15608e-4c23-4f0b-89a4-9ed1ad427570",
   "metadata": {},
   "outputs": [],
   "source": [
    "dict={\"Student1\":{\"name\":\"Rajat seth\",\"Age\":\"21\"},\"student2\":{\"name\":\"Aakash kumar\",\"Age\":\"21\"}}"
   ]
  },
  {
   "cell_type": "code",
   "execution_count": 34,
   "id": "e2c2fcc8-5e8b-4c73-9019-f99dcf8fa9c3",
   "metadata": {},
   "outputs": [
    {
     "data": {
      "text/plain": [
       "{'Student1': {'name': 'Rajat seth', 'Age': '21'},\n",
       " 'student2': {'name': 'Aakash kumar', 'Age': '21'}}"
      ]
     },
     "execution_count": 34,
     "metadata": {},
     "output_type": "execute_result"
    }
   ],
   "source": [
    "dict"
   ]
  },
  {
   "cell_type": "markdown",
   "id": "1c3fe020-ee61-41e4-a57c-f72f4061af1f",
   "metadata": {},
   "source": [
    "Q7)"
   ]
  },
  {
   "cell_type": "code",
   "execution_count": 41,
   "id": "8a3cf766-0d43-4e49-84c9-040f23a9abdb",
   "metadata": {},
   "outputs": [],
   "source": [
    "dict1={'language':'Python','course':'Data ScienceMasters'}\n"
   ]
  },
  {
   "cell_type": "code",
   "execution_count": 46,
   "id": "e2b3372e-c669-43b4-8523-37dcad5b19cb",
   "metadata": {},
   "outputs": [],
   "source": [
    "dict1.setdefault(\"topics\",['Python','MachineLearning','DeepLearning'])"
   ]
  },
  {
   "cell_type": "code",
   "execution_count": 49,
   "id": "633b1be5-727a-4a86-9aa0-86d0de377a5e",
   "metadata": {},
   "outputs": [
    {
     "data": {
      "text/plain": [
       "{'language': 'Python',\n",
       " 'course': 'Data ScienceMasters',\n",
       " 'topics': ['Python', 'MachineLearning', 'DeepLearning']}"
      ]
     },
     "execution_count": 49,
     "metadata": {},
     "output_type": "execute_result"
    }
   ],
   "source": [
    "dict1"
   ]
  },
  {
   "cell_type": "markdown",
   "id": "05ad82d3-436a-490f-a692-eee54bca4fc4",
   "metadata": {},
   "source": [
    "\n",
    "Q8)"
   ]
  },
  {
   "cell_type": "markdown",
   "id": "6d275c49-5fb3-4e82-a9d5-6fd6cb127d87",
   "metadata": {},
   "source": [
    "Three View objects in dictionaries are:\n",
    "i)Key\n",
    "ii)Value\n",
    "iii)Items\n",
    "\n",
    "    "
   ]
  },
  {
   "cell_type": "code",
   "execution_count": 51,
   "id": "1b677d73-989c-479a-8911-227c167f48ab",
   "metadata": {},
   "outputs": [
    {
     "data": {
      "text/plain": [
       "dict_items([('Sport', 'Cricket'), ('Teams', ['India', 'Australia', 'England', 'South Africa', 'Sri LAnka', 'New Zealand'])])"
      ]
     },
     "execution_count": 51,
     "metadata": {},
     "output_type": "execute_result"
    }
   ],
   "source": [
    "dict1={'Sport':'Cricket','Teams':['India','Australia','England','South Africa','Sri LAnka','New Zealand']}\n",
    "dict1.items()"
   ]
  },
  {
   "cell_type": "code",
   "execution_count": 52,
   "id": "1166545f-2a6b-413e-b773-2c46a7a76ff8",
   "metadata": {},
   "outputs": [
    {
     "data": {
      "text/plain": [
       "dict_keys(['Sport', 'Teams'])"
      ]
     },
     "execution_count": 52,
     "metadata": {},
     "output_type": "execute_result"
    }
   ],
   "source": [
    "dict1.keys()"
   ]
  },
  {
   "cell_type": "code",
   "execution_count": 53,
   "id": "eebdb268-4a2d-41d0-91eb-e382c5062cf7",
   "metadata": {},
   "outputs": [
    {
     "data": {
      "text/plain": [
       "dict_values(['Cricket', ['India', 'Australia', 'England', 'South Africa', 'Sri LAnka', 'New Zealand']])"
      ]
     },
     "execution_count": 53,
     "metadata": {},
     "output_type": "execute_result"
    }
   ],
   "source": [
    "dict1.values()"
   ]
  },
  {
   "cell_type": "code",
   "execution_count": null,
   "id": "b4f32679-1be8-47dc-ab18-f01fc786d1b6",
   "metadata": {},
   "outputs": [],
   "source": []
  }
 ],
 "metadata": {
  "kernelspec": {
   "display_name": "Python 3 (ipykernel)",
   "language": "python",
   "name": "python3"
  },
  "language_info": {
   "codemirror_mode": {
    "name": "ipython",
    "version": 3
   },
   "file_extension": ".py",
   "mimetype": "text/x-python",
   "name": "python",
   "nbconvert_exporter": "python",
   "pygments_lexer": "ipython3",
   "version": "3.10.8"
  }
 },
 "nbformat": 4,
 "nbformat_minor": 5
}
